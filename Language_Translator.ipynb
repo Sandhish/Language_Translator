{
  "cells": [
    {
      "cell_type": "code",
      "source": [
        "pip install gradio"
      ],
      "metadata": {
        "id": "dNO-teVxeahG"
      },
      "execution_count": null,
      "outputs": []
    },
    {
      "cell_type": "code",
      "source": [
        "pip install torch"
      ],
      "metadata": {
        "id": "vUx1c1Rqew_b"
      },
      "execution_count": null,
      "outputs": []
    },
    {
      "cell_type": "code",
      "source": [
        "pip install sentencepiece"
      ],
      "metadata": {
        "id": "iondO1pbe1dY"
      },
      "execution_count": null,
      "outputs": []
    },
    {
      "cell_type": "code",
      "source": [
        "pip install sacremoses"
      ],
      "metadata": {
        "id": "S8itciI1e3th"
      },
      "execution_count": null,
      "outputs": []
    },
    {
      "cell_type": "code",
      "source": [
        "import gradio as gr\n",
        "from transformers import AutoTokenizer, AutoModelForSequenceClassification, MarianMTModel, MarianTokenizer\n",
        "\n",
        "language_detection_model_name = \"papluca/xlm-roberta-base-language-detection\"\n",
        "language_detection_tokenizer = AutoTokenizer.from_pretrained(language_detection_model_name)\n",
        "language_detection_model = AutoModelForSequenceClassification.from_pretrained(language_detection_model_name)\n",
        "\n",
        "base_translation_model = \"Helsinki-NLP/opus-mt\"\n",
        "supported_languages = [\n",
        "    {\"code\": \"en\", \"name\": \"English\"},\n",
        "    {\"code\": \"es\", \"name\": \"Spanish\"},\n",
        "    {\"code\": \"fr\", \"name\": \"French\"},\n",
        "    {\"code\": \"de\", \"name\": \"German\"},\n",
        "    {\"code\": \"it\", \"name\": \"Italian\"},\n",
        "    {\"code\": \"ja\", \"name\": \"Japanese\"},\n",
        "    {\"code\": \"ru\", \"name\": \"Russian\"},\n",
        "    {\"code\": \"ar\", \"name\": \"Arabic\"},\n",
        "    {\"code\": \"nl\", \"name\": \"Dutch\"},\n",
        "    {\"code\": \"hi\", \"name\": \"Hindi\"},\n",
        "]\n",
        "\n",
        "translation_models = {}\n",
        "\n",
        "#pair availability\n",
        "for source_language in supported_languages:\n",
        "    for target_language in supported_languages:\n",
        "        if source_language[\"code\"] != target_language[\"code\"]:\n",
        "            translation_model_name = f'{base_translation_model}-{source_language[\"code\"]}-{target_language[\"code\"]}'\n",
        "            try:\n",
        "                MarianMTModel.from_pretrained(translation_model_name)\n",
        "                MarianTokenizer.from_pretrained(translation_model_name)\n",
        "                translation_models[(source_language[\"code\"], target_language[\"code\"])] = translation_model_name\n",
        "            except:\n",
        "                print(f\"Translation model not available for {source_language['name']} to {target_language['name']}\")\n",
        "\n",
        "def detect_and_translate(text, target_language_dropdown):\n",
        "    # Language Detection\n",
        "    inputs = language_detection_tokenizer(text, return_tensors=\"pt\")\n",
        "    outputs = language_detection_model(**inputs)\n",
        "    predicted_language_id = outputs.logits.argmax().item()\n",
        "    detected_language_code = list(language_detection_model.config.id2label.values())[predicted_language_id]\n",
        "    detected_language = next(lang[\"name\"] for lang in supported_languages if lang[\"code\"] == detected_language_code)\n",
        "\n",
        "    # Translation\n",
        "    source_language_code = detected_language_code\n",
        "    target_language_code = next(lang[\"code\"] for lang in supported_languages if lang[\"name\"] == target_language_dropdown)\n",
        "    translation_model_name = translation_models.get((source_language_code, target_language_code))\n",
        "\n",
        "    if translation_model_name is not None:\n",
        "        try:\n",
        "            translation_model = MarianMTModel.from_pretrained(translation_model_name)\n",
        "            translation_tokenizer = MarianTokenizer.from_pretrained(translation_model_name)\n",
        "\n",
        "            translation_inputs = translation_tokenizer(text, return_tensors=\"pt\")\n",
        "            translation_outputs = translation_model.generate(**translation_inputs, max_length=50, num_beams=5, no_repeat_ngram_size=2)\n",
        "            translated_text = translation_tokenizer.batch_decode(translation_outputs, skip_special_tokens=True)[0]\n",
        "\n",
        "            return f\"Detected language: {detected_language}\\nTranslated to {target_language_dropdown}: {translated_text}\"\n",
        "        except Exception as e:\n",
        "            print(f\"Error during translation: {e}\")\n",
        "            return \"Error during translation\"\n",
        "    else:\n",
        "        return \"Translation model not found for the specified language pair.\"\n",
        "\n",
        "target_languages_dropdown = [lang[\"name\"] for lang in supported_languages]\n",
        "\n",
        "iface = gr.Interface(\n",
        "    fn=detect_and_translate,\n",
        "    inputs=[\n",
        "        gr.Textbox(placeholder=\"Enter text for language detection and Translate...\", label=\"Text\"),\n",
        "        gr.Dropdown(target_languages_dropdown, label=\"Select Language to be translated\"),],\n",
        "    outputs=\"text\",\n",
        ")\n",
        "iface.launch()"
      ],
      "metadata": {
        "colab": {
          "base_uri": "https://localhost:8080/",
          "height": 1000
        },
        "id": "f5dE-KUVe8gU",
        "outputId": "b98ea368-ca89-4172-dff4-9274bf1c4bab"
      },
      "execution_count": null,
      "outputs": [
        {
          "output_type": "stream",
          "name": "stdout",
          "text": [
            "Translation model not available for English to Japanese\n",
            "Translation model not available for Spanish to Japanese\n",
            "Translation model not available for Spanish to Hindi\n",
            "Translation model not available for French to Italian\n",
            "Translation model not available for French to Japanese\n",
            "Translation model not available for French to Dutch\n",
            "Translation model not available for French to Hindi\n",
            "Translation model not available for German to Japanese\n",
            "Translation model not available for German to Russian\n",
            "Translation model not available for German to Hindi\n",
            "Translation model not available for Italian to Japanese\n",
            "Translation model not available for Italian to Russian\n",
            "Translation model not available for Italian to Dutch\n",
            "Translation model not available for Italian to Hindi\n",
            "Translation model not available for Japanese to Hindi\n",
            "Translation model not available for Russian to German\n",
            "Translation model not available for Russian to Italian\n",
            "Translation model not available for Russian to Japanese\n",
            "Translation model not available for Russian to Dutch\n",
            "Translation model not available for Russian to Hindi\n",
            "Translation model not available for Arabic to Japanese\n",
            "Translation model not available for Arabic to Dutch\n",
            "Translation model not available for Arabic to Hindi\n",
            "Translation model not available for Dutch to German\n",
            "Translation model not available for Dutch to Italian\n",
            "Translation model not available for Dutch to Japanese\n",
            "Translation model not available for Dutch to Russian\n",
            "Translation model not available for Dutch to Arabic\n",
            "Translation model not available for Dutch to Hindi\n",
            "Translation model not available for Hindi to Spanish\n",
            "Translation model not available for Hindi to French\n",
            "Translation model not available for Hindi to German\n",
            "Translation model not available for Hindi to Italian\n",
            "Translation model not available for Hindi to Japanese\n",
            "Translation model not available for Hindi to Russian\n",
            "Translation model not available for Hindi to Arabic\n",
            "Translation model not available for Hindi to Dutch\n",
            "Setting queue=True in a Colab notebook requires sharing enabled. Setting `share=True` (you can turn this off by setting `share=False` in `launch()` explicitly).\n",
            "\n",
            "Colab notebook detected. To show errors in colab notebook, set debug=True in launch()\n",
            "Running on public URL: https://29668d235147fea85d.gradio.live\n",
            "\n",
            "This share link expires in 72 hours. For free permanent hosting and GPU upgrades, run `gradio deploy` from Terminal to deploy to Spaces (https://huggingface.co/spaces)\n"
          ]
        },
        {
          "output_type": "display_data",
          "data": {
            "text/plain": [
              "<IPython.core.display.HTML object>"
            ],
            "text/html": [
              "<div><iframe src=\"https://29668d235147fea85d.gradio.live\" width=\"100%\" height=\"500\" allow=\"autoplay; camera; microphone; clipboard-read; clipboard-write;\" frameborder=\"0\" allowfullscreen></iframe></div>"
            ]
          },
          "metadata": {}
        },
        {
          "output_type": "execute_result",
          "data": {
            "text/plain": []
          },
          "metadata": {},
          "execution_count": 6
        }
      ]
    }
  ],
  "metadata": {
    "colab": {
      "name": "Welcome To Colaboratory",
      "provenance": [],
      "toc_visible": true
    },
    "kernelspec": {
      "display_name": "Python 3",
      "name": "python3"
    }
  },
  "nbformat": 4,
  "nbformat_minor": 0
}